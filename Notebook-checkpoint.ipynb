{
 "cells": [
  {
   "cell_type": "code",
   "execution_count": 1,
   "metadata": {},
   "outputs": [],
   "source": [
    "import warnings\n",
    "warnings.filterwarnings('ignore')"
   ]
  },
  {
   "cell_type": "code",
   "execution_count": 2,
   "metadata": {},
   "outputs": [],
   "source": [
    "import numpy as np\n",
    "import pandas as pd"
   ]
  },
  {
   "cell_type": "code",
   "execution_count": 3,
   "metadata": {},
   "outputs": [],
   "source": [
    "feature=[ 'src', 'dst', 'table_id', 'ip_bytes', 'ip_packet', 'ip_duration', 'in_port', 'dl_dst', 'port_bytes', 'port_packet', 'port_flow_count', \n",
    "'table_active_count', 'table_lookup_count', 'table_matched_count', 'port_rx_packets', 'port_tx_packets', 'port_rx_bytes', 'port_tx_bytes',\n",
    "'port_rx_dropped', 'port_tx_dropped', 'port_rx_errors', 'port_tx_errors', 'port_rx_frame_err', 'port_rx_over_err', 'port_rx_crc_err',\n",
    "'port_collisions', 'port_duration_sec']"
   ]
  },
  {
   "cell_type": "code",
   "execution_count": 4,
   "metadata": {},
   "outputs": [],
   "source": [
    "benign=pd.read_csv('archive/normal_ditg.csv',names=feature)\n",
    "g_c=pd.read_csv('archive/attack_bruteforce.csv',names=feature)\n",
    "g_j=pd.read_csv('archive/attack_cmd.csv',names=feature)\n",
    "g_s=pd.read_csv('archive/attack_ddos_tcp.csv',names=feature)\n",
    "g_t=pd.read_csv('archive/attack_ddos_udp.csv',names=feature)\n",
    "g_u=pd.read_csv('archive/attack_os_port_scan.csv',names=feature)\n",
    "m_a=pd.read_csv('archive/attack_samba.csv',names=feature)\n",
    "m_sc=pd.read_csv('archive/attack_sql_injection.csv',names=feature)\n",
    "m_sy=pd.read_csv('archive/attack_vnc.csv',names=feature)"
   ]
  },
  {
   "cell_type": "code",
   "execution_count": 5,
   "metadata": {},
   "outputs": [],
   "source": [
    "benign=benign.sample(frac=0.25,replace=False)\n",
    "g_c=g_c.sample(frac=0.25,replace=False)\n",
    "g_j=g_j.sample(frac=0.5,replace=False)\n",
    "g_s=g_s.sample(frac=0.5,replace=False)\n",
    "g_t=g_t.sample(frac=0.15,replace=False)\n",
    "g_u=g_u.sample(frac=0.15,replace=False)\n",
    "m_a=m_a.sample(frac=0.25,replace=False)\n",
    "m_sc=m_sc.sample(frac=0.15,replace=False)\n",
    "m_sy=m_sy.sample(frac=0.25,replace=False)"
   ]
  },
  {
   "cell_type": "code",
   "execution_count": 6,
   "metadata": {},
   "outputs": [],
   "source": [
    "benign['type']='Normal'\n",
    "g_c['type']='BruteForce'\n",
    "g_j['type']='CMD'\n",
    "g_s['type']='TCPDDOS'\n",
    "g_t['type']='UDPDDOS'\n",
    "g_u['type']='Probe'\n",
    "m_a['type']='Smaba'\n",
    "m_sc['type']='SQLInjection'\n",
    "m_sy['type']='VNC'"
   ]
  },
  {
   "cell_type": "code",
   "execution_count": 7,
   "metadata": {},
   "outputs": [
    {
     "data": {
      "text/html": [
       "<div>\n",
       "<style scoped>\n",
       "    .dataframe tbody tr th:only-of-type {\n",
       "        vertical-align: middle;\n",
       "    }\n",
       "\n",
       "    .dataframe tbody tr th {\n",
       "        vertical-align: top;\n",
       "    }\n",
       "\n",
       "    .dataframe thead th {\n",
       "        text-align: right;\n",
       "    }\n",
       "</style>\n",
       "<table border=\"1\" class=\"dataframe\">\n",
       "  <thead>\n",
       "    <tr style=\"text-align: right;\">\n",
       "      <th></th>\n",
       "      <th>src</th>\n",
       "      <th>dst</th>\n",
       "      <th>table_id</th>\n",
       "      <th>ip_bytes</th>\n",
       "      <th>ip_packet</th>\n",
       "      <th>ip_duration</th>\n",
       "      <th>in_port</th>\n",
       "      <th>dl_dst</th>\n",
       "      <th>port_bytes</th>\n",
       "      <th>port_packet</th>\n",
       "      <th>...</th>\n",
       "      <th>port_rx_dropped</th>\n",
       "      <th>port_tx_dropped</th>\n",
       "      <th>port_rx_errors</th>\n",
       "      <th>port_tx_errors</th>\n",
       "      <th>port_rx_frame_err</th>\n",
       "      <th>port_rx_over_err</th>\n",
       "      <th>port_rx_crc_err</th>\n",
       "      <th>port_collisions</th>\n",
       "      <th>port_duration_sec</th>\n",
       "      <th>type</th>\n",
       "    </tr>\n",
       "  </thead>\n",
       "  <tbody>\n",
       "    <tr>\n",
       "      <th>34350</th>\n",
       "      <td>10.0.0.1</td>\n",
       "      <td>10.0.0.4</td>\n",
       "      <td>0.0</td>\n",
       "      <td>34254.0</td>\n",
       "      <td>519.0</td>\n",
       "      <td>52.0</td>\n",
       "      <td>1.0</td>\n",
       "      <td>f2:c1:47:69:e8:47</td>\n",
       "      <td>34254.0</td>\n",
       "      <td>519.0</td>\n",
       "      <td>...</td>\n",
       "      <td>0.0</td>\n",
       "      <td>0.0</td>\n",
       "      <td>0.0</td>\n",
       "      <td>0.0</td>\n",
       "      <td>0.0</td>\n",
       "      <td>0.0</td>\n",
       "      <td>0.0</td>\n",
       "      <td>0.0</td>\n",
       "      <td>50922.0</td>\n",
       "      <td>Normal</td>\n",
       "    </tr>\n",
       "    <tr>\n",
       "      <th>32022</th>\n",
       "      <td>10.0.0.3</td>\n",
       "      <td>10.0.0.2</td>\n",
       "      <td>0.0</td>\n",
       "      <td>77090.0</td>\n",
       "      <td>465.0</td>\n",
       "      <td>46.0</td>\n",
       "      <td>3.0</td>\n",
       "      <td>16:75:96:93:29:54</td>\n",
       "      <td>77090.0</td>\n",
       "      <td>465.0</td>\n",
       "      <td>...</td>\n",
       "      <td>0.0</td>\n",
       "      <td>0.0</td>\n",
       "      <td>0.0</td>\n",
       "      <td>0.0</td>\n",
       "      <td>0.0</td>\n",
       "      <td>0.0</td>\n",
       "      <td>0.0</td>\n",
       "      <td>0.0</td>\n",
       "      <td>47313.0</td>\n",
       "      <td>Normal</td>\n",
       "    </tr>\n",
       "    <tr>\n",
       "      <th>36177</th>\n",
       "      <td>10.0.0.2</td>\n",
       "      <td>10.0.0.1</td>\n",
       "      <td>0.0</td>\n",
       "      <td>65746.0</td>\n",
       "      <td>463.0</td>\n",
       "      <td>46.0</td>\n",
       "      <td>2.0</td>\n",
       "      <td>32:41:12:b9:bd:3b</td>\n",
       "      <td>65746.0</td>\n",
       "      <td>463.0</td>\n",
       "      <td>...</td>\n",
       "      <td>0.0</td>\n",
       "      <td>0.0</td>\n",
       "      <td>0.0</td>\n",
       "      <td>0.0</td>\n",
       "      <td>0.0</td>\n",
       "      <td>0.0</td>\n",
       "      <td>0.0</td>\n",
       "      <td>0.0</td>\n",
       "      <td>53139.0</td>\n",
       "      <td>Normal</td>\n",
       "    </tr>\n",
       "    <tr>\n",
       "      <th>25343</th>\n",
       "      <td>10.0.0.3</td>\n",
       "      <td>10.0.0.2</td>\n",
       "      <td>0.0</td>\n",
       "      <td>38874.0</td>\n",
       "      <td>589.0</td>\n",
       "      <td>59.0</td>\n",
       "      <td>3.0</td>\n",
       "      <td>16:75:96:93:29:54</td>\n",
       "      <td>38874.0</td>\n",
       "      <td>589.0</td>\n",
       "      <td>...</td>\n",
       "      <td>0.0</td>\n",
       "      <td>0.0</td>\n",
       "      <td>0.0</td>\n",
       "      <td>0.0</td>\n",
       "      <td>0.0</td>\n",
       "      <td>0.0</td>\n",
       "      <td>0.0</td>\n",
       "      <td>0.0</td>\n",
       "      <td>38617.0</td>\n",
       "      <td>Normal</td>\n",
       "    </tr>\n",
       "    <tr>\n",
       "      <th>14264</th>\n",
       "      <td>10.0.0.2</td>\n",
       "      <td>10.0.0.1</td>\n",
       "      <td>0.0</td>\n",
       "      <td>22578.0</td>\n",
       "      <td>159.0</td>\n",
       "      <td>16.0</td>\n",
       "      <td>2.0</td>\n",
       "      <td>32:41:12:b9:bd:3b</td>\n",
       "      <td>22578.0</td>\n",
       "      <td>159.0</td>\n",
       "      <td>...</td>\n",
       "      <td>0.0</td>\n",
       "      <td>0.0</td>\n",
       "      <td>0.0</td>\n",
       "      <td>0.0</td>\n",
       "      <td>0.0</td>\n",
       "      <td>0.0</td>\n",
       "      <td>0.0</td>\n",
       "      <td>0.0</td>\n",
       "      <td>21277.0</td>\n",
       "      <td>Normal</td>\n",
       "    </tr>\n",
       "  </tbody>\n",
       "</table>\n",
       "<p>5 rows × 28 columns</p>\n",
       "</div>"
      ],
      "text/plain": [
       "            src       dst  table_id  ip_bytes  ip_packet  ip_duration  \\\n",
       "34350  10.0.0.1  10.0.0.4       0.0   34254.0      519.0         52.0   \n",
       "32022  10.0.0.3  10.0.0.2       0.0   77090.0      465.0         46.0   \n",
       "36177  10.0.0.2  10.0.0.1       0.0   65746.0      463.0         46.0   \n",
       "25343  10.0.0.3  10.0.0.2       0.0   38874.0      589.0         59.0   \n",
       "14264  10.0.0.2  10.0.0.1       0.0   22578.0      159.0         16.0   \n",
       "\n",
       "       in_port             dl_dst  port_bytes  port_packet  ...  \\\n",
       "34350      1.0  f2:c1:47:69:e8:47     34254.0        519.0  ...   \n",
       "32022      3.0  16:75:96:93:29:54     77090.0        465.0  ...   \n",
       "36177      2.0  32:41:12:b9:bd:3b     65746.0        463.0  ...   \n",
       "25343      3.0  16:75:96:93:29:54     38874.0        589.0  ...   \n",
       "14264      2.0  32:41:12:b9:bd:3b     22578.0        159.0  ...   \n",
       "\n",
       "       port_rx_dropped  port_tx_dropped  port_rx_errors  port_tx_errors  \\\n",
       "34350              0.0              0.0             0.0             0.0   \n",
       "32022              0.0              0.0             0.0             0.0   \n",
       "36177              0.0              0.0             0.0             0.0   \n",
       "25343              0.0              0.0             0.0             0.0   \n",
       "14264              0.0              0.0             0.0             0.0   \n",
       "\n",
       "       port_rx_frame_err  port_rx_over_err  port_rx_crc_err  port_collisions  \\\n",
       "34350                0.0               0.0              0.0              0.0   \n",
       "32022                0.0               0.0              0.0              0.0   \n",
       "36177                0.0               0.0              0.0              0.0   \n",
       "25343                0.0               0.0              0.0              0.0   \n",
       "14264                0.0               0.0              0.0              0.0   \n",
       "\n",
       "       port_duration_sec    type  \n",
       "34350            50922.0  Normal  \n",
       "32022            47313.0  Normal  \n",
       "36177            53139.0  Normal  \n",
       "25343            38617.0  Normal  \n",
       "14264            21277.0  Normal  \n",
       "\n",
       "[5 rows x 28 columns]"
      ]
     },
     "execution_count": 7,
     "metadata": {},
     "output_type": "execute_result"
    }
   ],
   "source": [
    "benign.head()"
   ]
  },
  {
   "cell_type": "code",
   "execution_count": 8,
   "metadata": {},
   "outputs": [],
   "source": [
    "data = pd.concat([benign,g_c,g_j,g_s,g_t,g_u,m_a,m_sc,m_sy])"
   ]
  },
  {
   "cell_type": "code",
   "execution_count": 9,
   "metadata": {},
   "outputs": [
    {
     "data": {
      "text/html": [
       "<div>\n",
       "<style scoped>\n",
       "    .dataframe tbody tr th:only-of-type {\n",
       "        vertical-align: middle;\n",
       "    }\n",
       "\n",
       "    .dataframe tbody tr th {\n",
       "        vertical-align: top;\n",
       "    }\n",
       "\n",
       "    .dataframe thead th {\n",
       "        text-align: right;\n",
       "    }\n",
       "</style>\n",
       "<table border=\"1\" class=\"dataframe\">\n",
       "  <thead>\n",
       "    <tr style=\"text-align: right;\">\n",
       "      <th></th>\n",
       "      <th>src</th>\n",
       "      <th>dst</th>\n",
       "      <th>table_id</th>\n",
       "      <th>ip_bytes</th>\n",
       "      <th>ip_packet</th>\n",
       "      <th>ip_duration</th>\n",
       "      <th>in_port</th>\n",
       "      <th>dl_dst</th>\n",
       "      <th>port_bytes</th>\n",
       "      <th>port_packet</th>\n",
       "      <th>...</th>\n",
       "      <th>port_rx_dropped</th>\n",
       "      <th>port_tx_dropped</th>\n",
       "      <th>port_rx_errors</th>\n",
       "      <th>port_tx_errors</th>\n",
       "      <th>port_rx_frame_err</th>\n",
       "      <th>port_rx_over_err</th>\n",
       "      <th>port_rx_crc_err</th>\n",
       "      <th>port_collisions</th>\n",
       "      <th>port_duration_sec</th>\n",
       "      <th>type</th>\n",
       "    </tr>\n",
       "  </thead>\n",
       "  <tbody>\n",
       "    <tr>\n",
       "      <th>34350</th>\n",
       "      <td>10.0.0.1</td>\n",
       "      <td>10.0.0.4</td>\n",
       "      <td>0.0</td>\n",
       "      <td>34254.0</td>\n",
       "      <td>519.0</td>\n",
       "      <td>52.0</td>\n",
       "      <td>1.0</td>\n",
       "      <td>f2:c1:47:69:e8:47</td>\n",
       "      <td>34254.0</td>\n",
       "      <td>519.0</td>\n",
       "      <td>...</td>\n",
       "      <td>0.0</td>\n",
       "      <td>0.0</td>\n",
       "      <td>0.0</td>\n",
       "      <td>0.0</td>\n",
       "      <td>0.0</td>\n",
       "      <td>0.0</td>\n",
       "      <td>0.0</td>\n",
       "      <td>0.0</td>\n",
       "      <td>50922.0</td>\n",
       "      <td>Normal</td>\n",
       "    </tr>\n",
       "    <tr>\n",
       "      <th>32022</th>\n",
       "      <td>10.0.0.3</td>\n",
       "      <td>10.0.0.2</td>\n",
       "      <td>0.0</td>\n",
       "      <td>77090.0</td>\n",
       "      <td>465.0</td>\n",
       "      <td>46.0</td>\n",
       "      <td>3.0</td>\n",
       "      <td>16:75:96:93:29:54</td>\n",
       "      <td>77090.0</td>\n",
       "      <td>465.0</td>\n",
       "      <td>...</td>\n",
       "      <td>0.0</td>\n",
       "      <td>0.0</td>\n",
       "      <td>0.0</td>\n",
       "      <td>0.0</td>\n",
       "      <td>0.0</td>\n",
       "      <td>0.0</td>\n",
       "      <td>0.0</td>\n",
       "      <td>0.0</td>\n",
       "      <td>47313.0</td>\n",
       "      <td>Normal</td>\n",
       "    </tr>\n",
       "    <tr>\n",
       "      <th>36177</th>\n",
       "      <td>10.0.0.2</td>\n",
       "      <td>10.0.0.1</td>\n",
       "      <td>0.0</td>\n",
       "      <td>65746.0</td>\n",
       "      <td>463.0</td>\n",
       "      <td>46.0</td>\n",
       "      <td>2.0</td>\n",
       "      <td>32:41:12:b9:bd:3b</td>\n",
       "      <td>65746.0</td>\n",
       "      <td>463.0</td>\n",
       "      <td>...</td>\n",
       "      <td>0.0</td>\n",
       "      <td>0.0</td>\n",
       "      <td>0.0</td>\n",
       "      <td>0.0</td>\n",
       "      <td>0.0</td>\n",
       "      <td>0.0</td>\n",
       "      <td>0.0</td>\n",
       "      <td>0.0</td>\n",
       "      <td>53139.0</td>\n",
       "      <td>Normal</td>\n",
       "    </tr>\n",
       "    <tr>\n",
       "      <th>25343</th>\n",
       "      <td>10.0.0.3</td>\n",
       "      <td>10.0.0.2</td>\n",
       "      <td>0.0</td>\n",
       "      <td>38874.0</td>\n",
       "      <td>589.0</td>\n",
       "      <td>59.0</td>\n",
       "      <td>3.0</td>\n",
       "      <td>16:75:96:93:29:54</td>\n",
       "      <td>38874.0</td>\n",
       "      <td>589.0</td>\n",
       "      <td>...</td>\n",
       "      <td>0.0</td>\n",
       "      <td>0.0</td>\n",
       "      <td>0.0</td>\n",
       "      <td>0.0</td>\n",
       "      <td>0.0</td>\n",
       "      <td>0.0</td>\n",
       "      <td>0.0</td>\n",
       "      <td>0.0</td>\n",
       "      <td>38617.0</td>\n",
       "      <td>Normal</td>\n",
       "    </tr>\n",
       "    <tr>\n",
       "      <th>14264</th>\n",
       "      <td>10.0.0.2</td>\n",
       "      <td>10.0.0.1</td>\n",
       "      <td>0.0</td>\n",
       "      <td>22578.0</td>\n",
       "      <td>159.0</td>\n",
       "      <td>16.0</td>\n",
       "      <td>2.0</td>\n",
       "      <td>32:41:12:b9:bd:3b</td>\n",
       "      <td>22578.0</td>\n",
       "      <td>159.0</td>\n",
       "      <td>...</td>\n",
       "      <td>0.0</td>\n",
       "      <td>0.0</td>\n",
       "      <td>0.0</td>\n",
       "      <td>0.0</td>\n",
       "      <td>0.0</td>\n",
       "      <td>0.0</td>\n",
       "      <td>0.0</td>\n",
       "      <td>0.0</td>\n",
       "      <td>21277.0</td>\n",
       "      <td>Normal</td>\n",
       "    </tr>\n",
       "  </tbody>\n",
       "</table>\n",
       "<p>5 rows × 28 columns</p>\n",
       "</div>"
      ],
      "text/plain": [
       "            src       dst  table_id  ip_bytes  ip_packet  ip_duration  \\\n",
       "34350  10.0.0.1  10.0.0.4       0.0   34254.0      519.0         52.0   \n",
       "32022  10.0.0.3  10.0.0.2       0.0   77090.0      465.0         46.0   \n",
       "36177  10.0.0.2  10.0.0.1       0.0   65746.0      463.0         46.0   \n",
       "25343  10.0.0.3  10.0.0.2       0.0   38874.0      589.0         59.0   \n",
       "14264  10.0.0.2  10.0.0.1       0.0   22578.0      159.0         16.0   \n",
       "\n",
       "       in_port             dl_dst  port_bytes  port_packet  ...  \\\n",
       "34350      1.0  f2:c1:47:69:e8:47     34254.0        519.0  ...   \n",
       "32022      3.0  16:75:96:93:29:54     77090.0        465.0  ...   \n",
       "36177      2.0  32:41:12:b9:bd:3b     65746.0        463.0  ...   \n",
       "25343      3.0  16:75:96:93:29:54     38874.0        589.0  ...   \n",
       "14264      2.0  32:41:12:b9:bd:3b     22578.0        159.0  ...   \n",
       "\n",
       "       port_rx_dropped  port_tx_dropped  port_rx_errors  port_tx_errors  \\\n",
       "34350              0.0              0.0             0.0             0.0   \n",
       "32022              0.0              0.0             0.0             0.0   \n",
       "36177              0.0              0.0             0.0             0.0   \n",
       "25343              0.0              0.0             0.0             0.0   \n",
       "14264              0.0              0.0             0.0             0.0   \n",
       "\n",
       "       port_rx_frame_err  port_rx_over_err  port_rx_crc_err  port_collisions  \\\n",
       "34350                0.0               0.0              0.0              0.0   \n",
       "32022                0.0               0.0              0.0              0.0   \n",
       "36177                0.0               0.0              0.0              0.0   \n",
       "25343                0.0               0.0              0.0              0.0   \n",
       "14264                0.0               0.0              0.0              0.0   \n",
       "\n",
       "       port_duration_sec    type  \n",
       "34350            50922.0  Normal  \n",
       "32022            47313.0  Normal  \n",
       "36177            53139.0  Normal  \n",
       "25343            38617.0  Normal  \n",
       "14264            21277.0  Normal  \n",
       "\n",
       "[5 rows x 28 columns]"
      ]
     },
     "execution_count": 9,
     "metadata": {},
     "output_type": "execute_result"
    }
   ],
   "source": [
    "data.head()"
   ]
  },
  {
   "cell_type": "code",
   "execution_count": 11,
   "metadata": {},
   "outputs": [],
   "source": [
    "del data['src']\n",
    "del data['dst']\n",
    "del data['dl_dst']"
   ]
  },
  {
   "cell_type": "code",
   "execution_count": 12,
   "metadata": {},
   "outputs": [
    {
     "data": {
      "text/plain": [
       "TCPDDOS         30619\n",
       "CMD             20964\n",
       "UDPDDOS         12655\n",
       "Smaba           11948\n",
       "SQLInjection    11282\n",
       "VNC             10305\n",
       "BruteForce      10253\n",
       "Normal           9770\n",
       "Probe            5737\n",
       "Name: type, dtype: int64"
      ]
     },
     "execution_count": 12,
     "metadata": {},
     "output_type": "execute_result"
    }
   ],
   "source": [
    "data['type'].value_counts()"
   ]
  },
  {
   "cell_type": "code",
   "execution_count": 13,
   "metadata": {},
   "outputs": [
    {
     "data": {
      "text/plain": [
       "array([2, 0, 1, 6, 7, 3, 5, 4, 8], dtype=int64)"
      ]
     },
     "execution_count": 13,
     "metadata": {},
     "output_type": "execute_result"
    }
   ],
   "source": [
    "# Import label encoder\n",
    "from sklearn import preprocessing\n",
    "\n",
    "# label_encoder object knows\n",
    "# how to understand word labels.\n",
    "label_encoder = preprocessing.LabelEncoder()\n",
    "\n",
    "data['type']= label_encoder.fit_transform(data['type'])\n",
    "\n",
    "data['type'].unique()"
   ]
  },
  {
   "cell_type": "code",
   "execution_count": 14,
   "metadata": {},
   "outputs": [],
   "source": [
    "data = data.dropna()"
   ]
  },
  {
   "cell_type": "code",
   "execution_count": 26,
   "metadata": {},
   "outputs": [
    {
     "name": "stdout",
     "output_type": "stream",
     "text": [
      "<class 'pandas.core.frame.DataFrame'>\n",
      "Int64Index: 123532 entries, 33333 to 31646\n",
      "Data columns (total 25 columns):\n",
      "table_id               123532 non-null float64\n",
      "ip_bytes               123532 non-null float64\n",
      "ip_packet              123532 non-null float64\n",
      "ip_duration            123532 non-null float64\n",
      "in_port                123532 non-null float64\n",
      "port_bytes             123532 non-null float64\n",
      "port_packet            123532 non-null float64\n",
      "port_flow_count        123532 non-null float64\n",
      "table_active_count     123532 non-null float64\n",
      "table_lookup_count     123532 non-null float64\n",
      "table_matched_count    123532 non-null float64\n",
      "port_rx_packets        123532 non-null float64\n",
      "port_tx_packets        123532 non-null float64\n",
      "port_rx_bytes          123532 non-null float64\n",
      "port_tx_bytes          123532 non-null float64\n",
      "port_rx_dropped        123532 non-null float64\n",
      "port_tx_dropped        123532 non-null float64\n",
      "port_rx_errors         123532 non-null float64\n",
      "port_tx_errors         123532 non-null float64\n",
      "port_rx_frame_err      123532 non-null float64\n",
      "port_rx_over_err       123532 non-null float64\n",
      "port_rx_crc_err        123532 non-null float64\n",
      "port_collisions        123532 non-null float64\n",
      "port_duration_sec      123532 non-null float64\n",
      "type                   123532 non-null int32\n",
      "dtypes: float64(24), int32(1)\n",
      "memory usage: 24.0 MB\n"
     ]
    }
   ],
   "source": [
    "data.info()"
   ]
  },
  {
   "cell_type": "code",
   "execution_count": 15,
   "metadata": {},
   "outputs": [],
   "source": [
    "X = data.drop([\"type\"],axis =1)\n",
    "y = data[\"type\"]"
   ]
  },
  {
   "cell_type": "code",
   "execution_count": 16,
   "metadata": {},
   "outputs": [
    {
     "data": {
      "text/plain": [
       "(123533, 9)"
      ]
     },
     "execution_count": 16,
     "metadata": {},
     "output_type": "execute_result"
    }
   ],
   "source": [
    "from sklearn.feature_selection import SelectKBest, SelectPercentile, mutual_info_classif\n",
    "\n",
    "selector = SelectPercentile(mutual_info_classif, percentile=35)\n",
    "X_reduced = selector.fit_transform(X, y)\n",
    "X_reduced.shape\n"
   ]
  },
  {
   "cell_type": "code",
   "execution_count": 17,
   "metadata": {},
   "outputs": [
    {
     "data": {
      "text/plain": [
       "['ip_bytes',\n",
       " 'ip_packet',\n",
       " 'port_bytes',\n",
       " 'port_packet',\n",
       " 'port_flow_count',\n",
       " 'table_active_count',\n",
       " 'port_rx_packets',\n",
       " 'port_rx_bytes',\n",
       " 'port_tx_bytes']"
      ]
     },
     "execution_count": 17,
     "metadata": {},
     "output_type": "execute_result"
    }
   ],
   "source": [
    "cols = selector.get_support(indices=True)\n",
    "selected_columns = X.iloc[:,cols].columns.tolist()\n",
    "selected_columns"
   ]
  },
  {
   "cell_type": "code",
   "execution_count": 18,
   "metadata": {},
   "outputs": [],
   "source": [
    "df = data[['ip_bytes',\n",
    "                 'ip_packet',\n",
    "                 'port_bytes',\n",
    "                 'port_packet',\n",
    "                 'port_flow_count',\n",
    "                 'table_active_count',\n",
    "                 'port_rx_packets',\n",
    "                 'port_rx_bytes',\n",
    "                 'port_tx_bytes',\n",
    "                  'type']]\n",
    "df.to_csv('processed.csv')"
   ]
  },
  {
   "cell_type": "code",
   "execution_count": 19,
   "metadata": {},
   "outputs": [],
   "source": [
    "from sklearn.metrics import accuracy_score # for calculating accuracy of model\n",
    "from sklearn.model_selection import train_test_split # for splitting the dataset for training and testing\n",
    "from sklearn.metrics import classification_report # for generating a classification report of model\n",
    "\n",
    "from sklearn.metrics import precision_score\n",
    "from sklearn.metrics import recall_score\n",
    "from sklearn.metrics import f1_score"
   ]
  },
  {
   "cell_type": "code",
   "execution_count": 20,
   "metadata": {},
   "outputs": [],
   "source": [
    "# splitting the dataset 80% for training and 20% testing\n",
    "X_train, X_test, y_train, y_test = train_test_split(X_reduced,y, test_size=0.20, random_state=42)"
   ]
  },
  {
   "cell_type": "code",
   "execution_count": 34,
   "metadata": {},
   "outputs": [],
   "source": [
    "ML_Model = []\n",
    "accuracy = []\n",
    "precision = []\n",
    "recall = []\n",
    "f1score = []\n",
    "\n",
    "#function to call for storing the results\n",
    "def storeResults(model, a,b,c,d):\n",
    "    ML_Model.append(model)\n",
    "    accuracy.append(round(a, 3))\n",
    "    precision.append(round(b, 3))\n",
    "    recall.append(round(c, 3))\n",
    "    f1score.append(round(d, 3))"
   ]
  },
  {
   "cell_type": "markdown",
   "metadata": {},
   "source": [
    "# KNN"
   ]
  },
  {
   "cell_type": "code",
   "execution_count": 21,
   "metadata": {},
   "outputs": [],
   "source": [
    "from sklearn.neighbors import KNeighborsClassifier\n",
    "\n",
    "# instantiate the model \n",
    "knn = KNeighborsClassifier(n_neighbors=3)\n",
    "\n",
    "knn.fit(X_train, y_train)\n",
    "\n",
    "y_pred = knn.predict(X_test)\n",
    "\n",
    "knn_acc = accuracy_score(y_pred, y_test)\n",
    "knn_prec = precision_score(y_pred, y_test,average='weighted')\n",
    "knn_rec = recall_score(y_pred, y_test,average='weighted')\n",
    "knn_f1 = f1_score(y_pred, y_test,average='weighted')"
   ]
  },
  {
   "cell_type": "code",
   "execution_count": 24,
   "metadata": {},
   "outputs": [
    {
     "name": "stdout",
     "output_type": "stream",
     "text": [
      "Fitting 3 folds for each of 12 candidates, totalling 36 fits\n"
     ]
    },
    {
     "data": {
      "text/plain": [
       "0.9992916843745573"
      ]
     },
     "execution_count": 24,
     "metadata": {},
     "output_type": "execute_result"
    }
   ],
   "source": [
    "from sklearn.model_selection import GridSearchCV\n",
    "\n",
    "grid_params = { 'n_neighbors' : [5,7],\n",
    "               'weights' : ['uniform','distance'],\n",
    "               'metric' : ['minkowski','euclidean','manhattan']}\n",
    "               \n",
    "gs = GridSearchCV(knn, grid_params, verbose = 1, cv=3, n_jobs = -1)\n",
    "g_res = gs.fit(X_train, y_train)\n",
    "g_res.best_score_"
   ]
  },
  {
   "cell_type": "code",
   "execution_count": 45,
   "metadata": {},
   "outputs": [],
   "source": [
    "storeResults('KNN',knn_acc,knn_prec,knn_rec,knn_f1)"
   ]
  },
  {
   "cell_type": "markdown",
   "metadata": {},
   "source": [
    "# Decision Tree"
   ]
  },
  {
   "cell_type": "code",
   "execution_count": 25,
   "metadata": {},
   "outputs": [],
   "source": [
    "from sklearn.tree import DecisionTreeClassifier\n",
    "\n",
    "# instantiate the model \n",
    "tree = DecisionTreeClassifier(random_state=0)\n",
    "\n",
    "tree.fit(X_train, y_train)\n",
    "\n",
    "y_pred = tree.predict(X_test)\n",
    "\n",
    "dt_acc = accuracy_score(y_pred, y_test)\n",
    "dt_prec = precision_score(y_pred, y_test,average='weighted')\n",
    "dt_rec = recall_score(y_pred, y_test,average='weighted')\n",
    "dt_f1 = f1_score(y_pred, y_test,average='weighted')"
   ]
  },
  {
   "cell_type": "code",
   "execution_count": 26,
   "metadata": {},
   "outputs": [
    {
     "name": "stdout",
     "output_type": "stream",
     "text": [
      "Fitting 4 folds for each of 8 candidates, totalling 32 fits\n"
     ]
    },
    {
     "data": {
      "text/plain": [
       "0.8353469168818024"
      ]
     },
     "execution_count": 26,
     "metadata": {},
     "output_type": "execute_result"
    }
   ],
   "source": [
    "params = {\n",
    "    'max_depth': [2, 3],\n",
    "    'min_samples_leaf': [5, 10],\n",
    "    'criterion': [\"gini\", \"entropy\"]\n",
    "}\n",
    "grid_search = GridSearchCV(estimator=tree, \n",
    "                           param_grid=params, \n",
    "                           cv=4, n_jobs=-1, verbose=1, scoring = \"accuracy\")\n",
    "grid_search.fit(X_train, y_train)\n",
    "grid_search.best_score_"
   ]
  },
  {
   "cell_type": "code",
   "execution_count": 46,
   "metadata": {},
   "outputs": [],
   "source": [
    "storeResults('Decision Tree',dt_acc,dt_prec,dt_rec,dt_f1)"
   ]
  },
  {
   "cell_type": "markdown",
   "metadata": {},
   "source": [
    "# Random Forest"
   ]
  },
  {
   "cell_type": "code",
   "execution_count": 27,
   "metadata": {},
   "outputs": [],
   "source": [
    "from sklearn.ensemble import RandomForestClassifier\n",
    "\n",
    "# instantiate the model \n",
    "forest =  RandomForestClassifier(n_estimators=10)\n",
    "\n",
    "forest.fit(X_train, y_train)\n",
    "\n",
    "y_pred = forest.predict(X_test)\n",
    "\n",
    "rf_acc = accuracy_score(y_pred, y_test)\n",
    "rf_prec = precision_score(y_pred, y_test,average='weighted')\n",
    "rf_rec = recall_score(y_pred, y_test,average='weighted')\n",
    "rf_f1 = f1_score(y_pred, y_test,average='weighted')"
   ]
  },
  {
   "cell_type": "code",
   "execution_count": 28,
   "metadata": {},
   "outputs": [
    {
     "name": "stdout",
     "output_type": "stream",
     "text": [
      "RandomForestClassifier(max_depth=6, max_features='sqrt', max_leaf_nodes=9,\n",
      "                       n_estimators=25)\n"
     ]
    }
   ],
   "source": [
    "param_grid = {\n",
    "    'n_estimators': [5,25],\n",
    "    'max_features': ['sqrt', 'log2', None],\n",
    "    'max_depth': [3, 6, 9],\n",
    "    'max_leaf_nodes': [3, 6, 9],\n",
    "}\n",
    "grid_search = GridSearchCV(RandomForestClassifier(),\n",
    "                           param_grid=param_grid)\n",
    "grid_search.fit(X_train, y_train)\n",
    "print(grid_search.best_estimator_)"
   ]
  },
  {
   "cell_type": "code",
   "execution_count": 47,
   "metadata": {},
   "outputs": [],
   "source": [
    "storeResults('Random Forest',rf_acc,rf_prec,rf_rec,rf_f1)"
   ]
  },
  {
   "cell_type": "markdown",
   "metadata": {},
   "source": [
    "# Naive Bayes"
   ]
  },
  {
   "cell_type": "code",
   "execution_count": 29,
   "metadata": {},
   "outputs": [],
   "source": [
    "from sklearn.naive_bayes import GaussianNB\n",
    "\n",
    "# instantiate the model \n",
    "nb =  GaussianNB()\n",
    "\n",
    "nb.fit(X_train, y_train)\n",
    "\n",
    "y_pred = nb.predict(X_test)\n",
    "\n",
    "nb_acc = accuracy_score(y_pred, y_test)\n",
    "nb_prec = precision_score(y_pred, y_test,average='weighted')\n",
    "nb_rec = recall_score(y_pred, y_test,average='weighted')\n",
    "nb_f1 = f1_score(y_pred, y_test,average='weighted')"
   ]
  },
  {
   "cell_type": "code",
   "execution_count": 30,
   "metadata": {},
   "outputs": [
    {
     "name": "stdout",
     "output_type": "stream",
     "text": [
      "Fitting 10 folds for each of 100 candidates, totalling 1000 fits\n",
      "GaussianNB(var_smoothing=1.873817422860383e-06)\n"
     ]
    }
   ],
   "source": [
    "param_grid_nb = {\n",
    "    'var_smoothing': np.logspace(0,-9, num=100)\n",
    "}\n",
    "\n",
    "nbModel_grid = GridSearchCV(estimator=GaussianNB(), param_grid=param_grid_nb, verbose=1, cv=10, n_jobs=-1)\n",
    "nbModel_grid.fit(X_train, y_train)\n",
    "print(nbModel_grid.best_estimator_)"
   ]
  },
  {
   "cell_type": "code",
   "execution_count": 48,
   "metadata": {},
   "outputs": [],
   "source": [
    "storeResults('Naive Bayes',nb_acc,nb_prec,nb_rec,nb_f1)"
   ]
  },
  {
   "cell_type": "markdown",
   "metadata": {},
   "source": [
    "# Logistic Regresssion"
   ]
  },
  {
   "cell_type": "code",
   "execution_count": 31,
   "metadata": {},
   "outputs": [],
   "source": [
    "from sklearn.linear_model import LogisticRegression\n",
    "\n",
    "# instantiate the model \n",
    "lr =  LogisticRegression(random_state=0)\n",
    "\n",
    "lr.fit(X_train, y_train)\n",
    "\n",
    "y_pred = lr.predict(X_test)\n",
    "\n",
    "lr_acc = accuracy_score(y_pred, y_test)\n",
    "lr_prec = precision_score(y_pred, y_test,average='weighted')\n",
    "lr_rec = recall_score(y_pred, y_test,average='weighted')\n",
    "lr_f1 = f1_score(y_pred, y_test,average='weighted')"
   ]
  },
  {
   "cell_type": "code",
   "execution_count": 32,
   "metadata": {},
   "outputs": [
    {
     "name": "stdout",
     "output_type": "stream",
     "text": [
      "Tuned Logistic Regression Parameters: {'C': 268.2695795279727}\n",
      "Best score is 0.43941298175058546\n"
     ]
    }
   ],
   "source": [
    "c_space = np.logspace(-5, 8, 15)\n",
    "param_grid = {'C': c_space}\n",
    "\n",
    "# Instantiating the GridSearchCV object\n",
    "logreg_cv = GridSearchCV(lr, param_grid, cv = 5)\n",
    " \n",
    "logreg_cv.fit(X, y)\n",
    " \n",
    "# Print the tuned parameters and score\n",
    "print(\"Tuned Logistic Regression Parameters: {}\".format(logreg_cv.best_params_))\n",
    "print(\"Best score is {}\".format(logreg_cv.best_score_))"
   ]
  },
  {
   "cell_type": "code",
   "execution_count": 49,
   "metadata": {},
   "outputs": [],
   "source": [
    "storeResults('Logistic Regression',lr_acc,lr_prec,lr_rec,lr_f1)"
   ]
  },
  {
   "cell_type": "markdown",
   "metadata": {},
   "source": [
    "# AdaBoost Classifier"
   ]
  },
  {
   "cell_type": "code",
   "execution_count": 33,
   "metadata": {},
   "outputs": [],
   "source": [
    "from sklearn.ensemble import AdaBoostClassifier\n",
    "\n",
    "# instantiate the model \n",
    "ada =  AdaBoostClassifier(n_estimators=100, random_state=0)\n",
    "\n",
    "ada.fit(X_train, y_train)\n",
    "\n",
    "y_pred = ada.predict(X_test)\n",
    "\n",
    "ada_acc = accuracy_score(y_pred, y_test)\n",
    "ada_prec = precision_score(y_pred, y_test,average='weighted')\n",
    "ada_rec = recall_score(y_pred, y_test,average='weighted')\n",
    "ada_f1 = f1_score(y_pred, y_test,average='weighted')"
   ]
  },
  {
   "cell_type": "code",
   "execution_count": 39,
   "metadata": {},
   "outputs": [
    {
     "name": "stdout",
     "output_type": "stream",
     "text": [
      "Fitting 5 folds for each of 3 candidates, totalling 15 fits\n"
     ]
    },
    {
     "data": {
      "text/plain": [
       "GridSearchCV(cv=5,\n",
       "             estimator=AdaBoostClassifier(n_estimators=100, random_state=0),\n",
       "             n_jobs=1, param_grid={'n_estimators': [1, 2, 3]}, verbose=1)"
      ]
     },
     "execution_count": 39,
     "metadata": {},
     "output_type": "execute_result"
    }
   ],
   "source": [
    "parameters = {\n",
    "    'n_estimators': [1, 2, 3]\n",
    "}\n",
    "clf = GridSearchCV(ada, parameters, cv=5, verbose=1, n_jobs=1)\n",
    "clf.fit(X_train, y_train)\n"
   ]
  },
  {
   "cell_type": "code",
   "execution_count": 42,
   "metadata": {},
   "outputs": [
    {
     "name": "stdout",
     "output_type": "stream",
     "text": [
      "Tuned AdaBoost Parameters: {'n_estimators': 2}\n",
      "Best score is 0.5208244889185253\n"
     ]
    }
   ],
   "source": [
    "# Print the tuned parameters and score\n",
    "print(\"Tuned AdaBoost Parameters: {}\".format(clf.best_params_))\n",
    "print(\"Best score is {}\".format(clf.best_score_))"
   ]
  },
  {
   "cell_type": "code",
   "execution_count": 50,
   "metadata": {},
   "outputs": [],
   "source": [
    "storeResults('AdaBoost Classifier',ada_acc,ada_prec,ada_rec,ada_f1)"
   ]
  },
  {
   "cell_type": "markdown",
   "metadata": {},
   "source": [
    "# XGBoost"
   ]
  },
  {
   "cell_type": "code",
   "execution_count": 37,
   "metadata": {},
   "outputs": [],
   "source": [
    "from xgboost import XGBClassifier\n",
    "\n",
    "# instantiate the model \n",
    "xgb =  XGBClassifier(n_estimators=100, random_state=0)\n",
    "\n",
    "xgb.fit(X_train, y_train)\n",
    "\n",
    "y_pred = xgb.predict(X_test)\n",
    "\n",
    "xgb_acc = accuracy_score(y_pred, y_test)\n",
    "xgb_prec = precision_score(y_pred, y_test,average='weighted')\n",
    "xgb_rec = recall_score(y_pred, y_test,average='weighted')\n",
    "xgb_f1 = f1_score(y_pred, y_test,average='weighted')"
   ]
  },
  {
   "cell_type": "code",
   "execution_count": 41,
   "metadata": {},
   "outputs": [],
   "source": [
    "param_test1 = {\n",
    " 'max_depth':range(3,10,2),\n",
    " 'min_child_weight':range(1,6,2)\n",
    "}\n",
    "gsearch1 = GridSearchCV(estimator = xgb, param_grid = param_test1, scoring='roc_auc',n_jobs=4, cv=5)"
   ]
  },
  {
   "cell_type": "code",
   "execution_count": 43,
   "metadata": {},
   "outputs": [
    {
     "data": {
      "text/plain": [
       "GridSearchCV(cv=5,\n",
       "             estimator=XGBClassifier(base_score=0.5, booster='gbtree',\n",
       "                                     callbacks=None, colsample_bylevel=1,\n",
       "                                     colsample_bynode=1, colsample_bytree=1,\n",
       "                                     early_stopping_rounds=None,\n",
       "                                     enable_categorical=False, eval_metric=None,\n",
       "                                     gamma=0, gpu_id=-1,\n",
       "                                     grow_policy='depthwise',\n",
       "                                     importance_type=None,\n",
       "                                     interaction_constraints='',\n",
       "                                     learning_rate=0.300000012, max_bin=256,\n",
       "                                     max_cat_to_onehot=4, max_delta_step=0,\n",
       "                                     max_depth=6, max_leaves=0,\n",
       "                                     min_child_weight=1, missing=nan,\n",
       "                                     monotone_constraints='()',\n",
       "                                     n_estimators=100, n_jobs=0,\n",
       "                                     num_parallel_tree=1,\n",
       "                                     objective='multi:softprob',\n",
       "                                     predictor='auto', random_state=0,\n",
       "                                     reg_alpha=0, ...),\n",
       "             n_jobs=4,\n",
       "             param_grid={'max_depth': range(3, 10, 2),\n",
       "                         'min_child_weight': range(1, 6, 2)},\n",
       "             scoring='roc_auc')"
      ]
     },
     "execution_count": 43,
     "metadata": {},
     "output_type": "execute_result"
    }
   ],
   "source": [
    "gsearch1.fit(X_train, y_train)"
   ]
  },
  {
   "cell_type": "code",
   "execution_count": 44,
   "metadata": {},
   "outputs": [
    {
     "name": "stdout",
     "output_type": "stream",
     "text": [
      "Tuned AdaBoost Parameters: {'max_depth': 3, 'min_child_weight': 1}\n",
      "Best score is nan\n"
     ]
    }
   ],
   "source": [
    "# Print the tuned parameters and score\n",
    "print(\"Tuned AdaBoost Parameters: {}\".format(gsearch1.best_params_))\n",
    "print(\"Best score is {}\".format(gsearch1.best_score_))"
   ]
  },
  {
   "cell_type": "code",
   "execution_count": 51,
   "metadata": {},
   "outputs": [],
   "source": [
    "storeResults('XGBoost',xgb_acc,xgb_prec,xgb_rec,xgb_f1)"
   ]
  },
  {
   "cell_type": "markdown",
   "metadata": {},
   "source": [
    "# Comparison"
   ]
  },
  {
   "cell_type": "code",
   "execution_count": 52,
   "metadata": {},
   "outputs": [],
   "source": [
    "#creating dataframe\n",
    "import pandas as pd\n",
    "import numpy as np\n",
    "result = pd.DataFrame({ 'ML Model' : ML_Model,\n",
    "                        'Accuracy' : accuracy,\n",
    "                        'f1_score' : f1score,\n",
    "                        'Recall'   : recall,\n",
    "                        'Precision': precision,\n",
    "                        \n",
    "                      })"
   ]
  },
  {
   "cell_type": "code",
   "execution_count": 53,
   "metadata": {},
   "outputs": [
    {
     "data": {
      "text/html": [
       "<div>\n",
       "<style scoped>\n",
       "    .dataframe tbody tr th:only-of-type {\n",
       "        vertical-align: middle;\n",
       "    }\n",
       "\n",
       "    .dataframe tbody tr th {\n",
       "        vertical-align: top;\n",
       "    }\n",
       "\n",
       "    .dataframe thead th {\n",
       "        text-align: right;\n",
       "    }\n",
       "</style>\n",
       "<table border=\"1\" class=\"dataframe\">\n",
       "  <thead>\n",
       "    <tr style=\"text-align: right;\">\n",
       "      <th></th>\n",
       "      <th>ML Model</th>\n",
       "      <th>Accuracy</th>\n",
       "      <th>f1_score</th>\n",
       "      <th>Recall</th>\n",
       "      <th>Precision</th>\n",
       "    </tr>\n",
       "  </thead>\n",
       "  <tbody>\n",
       "    <tr>\n",
       "      <th>0</th>\n",
       "      <td>KNN</td>\n",
       "      <td>0.999</td>\n",
       "      <td>0.999</td>\n",
       "      <td>0.999</td>\n",
       "      <td>0.999</td>\n",
       "    </tr>\n",
       "    <tr>\n",
       "      <th>1</th>\n",
       "      <td>Decision Tree</td>\n",
       "      <td>0.999</td>\n",
       "      <td>0.999</td>\n",
       "      <td>0.999</td>\n",
       "      <td>0.999</td>\n",
       "    </tr>\n",
       "    <tr>\n",
       "      <th>2</th>\n",
       "      <td>Random Forest</td>\n",
       "      <td>0.999</td>\n",
       "      <td>0.999</td>\n",
       "      <td>0.999</td>\n",
       "      <td>0.999</td>\n",
       "    </tr>\n",
       "    <tr>\n",
       "      <th>3</th>\n",
       "      <td>Naive Bayes</td>\n",
       "      <td>0.770</td>\n",
       "      <td>0.775</td>\n",
       "      <td>0.770</td>\n",
       "      <td>0.834</td>\n",
       "    </tr>\n",
       "    <tr>\n",
       "      <th>4</th>\n",
       "      <td>Logistic Regression</td>\n",
       "      <td>0.421</td>\n",
       "      <td>0.513</td>\n",
       "      <td>0.421</td>\n",
       "      <td>0.834</td>\n",
       "    </tr>\n",
       "    <tr>\n",
       "      <th>5</th>\n",
       "      <td>AdaBoost Classifier</td>\n",
       "      <td>0.477</td>\n",
       "      <td>0.548</td>\n",
       "      <td>0.477</td>\n",
       "      <td>0.810</td>\n",
       "    </tr>\n",
       "    <tr>\n",
       "      <th>6</th>\n",
       "      <td>XGBoost</td>\n",
       "      <td>1.000</td>\n",
       "      <td>1.000</td>\n",
       "      <td>1.000</td>\n",
       "      <td>1.000</td>\n",
       "    </tr>\n",
       "  </tbody>\n",
       "</table>\n",
       "</div>"
      ],
      "text/plain": [
       "              ML Model  Accuracy  f1_score  Recall  Precision\n",
       "0                  KNN     0.999     0.999   0.999      0.999\n",
       "1        Decision Tree     0.999     0.999   0.999      0.999\n",
       "2        Random Forest     0.999     0.999   0.999      0.999\n",
       "3          Naive Bayes     0.770     0.775   0.770      0.834\n",
       "4  Logistic Regression     0.421     0.513   0.421      0.834\n",
       "5  AdaBoost Classifier     0.477     0.548   0.477      0.810\n",
       "6              XGBoost     1.000     1.000   1.000      1.000"
      ]
     },
     "execution_count": 53,
     "metadata": {},
     "output_type": "execute_result"
    }
   ],
   "source": [
    "result"
   ]
  },
  {
   "cell_type": "markdown",
   "metadata": {},
   "source": [
    "# Graph"
   ]
  },
  {
   "cell_type": "code",
   "execution_count": 54,
   "metadata": {},
   "outputs": [],
   "source": [
    "classifier = ML_Model\n",
    "y_pos = np.arange(len(classifier))"
   ]
  },
  {
   "cell_type": "markdown",
   "metadata": {},
   "source": [
    "# Accuracy"
   ]
  },
  {
   "cell_type": "code",
   "execution_count": 59,
   "metadata": {},
   "outputs": [
    {
     "data": {
      "image/png": "[encoded data removed]",
      "text/plain": [
       "<Figure size 432x288 with 1 Axes>"
      ]
     },
     "metadata": {
      "needs_background": "light"
     },
     "output_type": "display_data"
    }
   ],
   "source": [
    "import matplotlib.pyplot as plt2\n",
    "plt2.barh(y_pos, accuracy, align='center', alpha=0.5,color='blue')\n",
    "plt2.yticks(y_pos, classifier)\n",
    "plt2.xlabel('Accuracy Score')\n",
    "plt2.title('Classification Performance')\n",
    "plt2.show()"
   ]
  },
  {
   "cell_type": "markdown",
   "metadata": {},
   "source": [
    "# Precision"
   ]
  },
  {
   "cell_type": "code",
   "execution_count": 56,
   "metadata": {},
   "outputs": [
    {
     "data": {
      "image/png": "[encoded data removed]",
      "text/plain": [
       "<Figure size 432x288 with 1 Axes>"
      ]
     },
     "metadata": {
      "needs_background": "light"
     },
     "output_type": "display_data"
    }
   ],
   "source": [
    "import matplotlib.pyplot as plt2\n",
    "plt2.barh(y_pos, precision, align='center', alpha=0.5,color='red')\n",
    "plt2.yticks(y_pos, classifier)\n",
    "plt2.xlabel('Precision Score')\n",
    "plt2.title('Classification Performance')\n",
    "plt2.show()"
   ]
  },
  {
   "cell_type": "markdown",
   "metadata": {},
   "source": [
    "# Recall"
   ]
  },
  {
   "cell_type": "code",
   "execution_count": 57,
   "metadata": {},
   "outputs": [
    {
     "data": {
      "image/png": "[encoded data removed]",
      "text/plain": [
       "<Figure size 432x288 with 1 Axes>"
      ]
     },
     "metadata": {
      "needs_background": "light"
     },
     "output_type": "display_data"
    }
   ],
   "source": [
    "import matplotlib.pyplot as plt2\n",
    "plt2.barh(y_pos, recall, align='center', alpha=0.5,color='yellow')\n",
    "plt2.yticks(y_pos, classifier)\n",
    "plt2.xlabel('Recall Score')\n",
    "plt2.title('Classification Performance')\n",
    "plt2.show()"
   ]
  },
  {
   "cell_type": "markdown",
   "metadata": {},
   "source": [
    "# F1 SCore"
   ]
  },
  {
   "cell_type": "code",
   "execution_count": 58,
   "metadata": {},
   "outputs": [
    {
     "data": {
      "image/png": "[encoded data removed]",
      "text/plain": [
       "<Figure size 432x288 with 1 Axes>"
      ]
     },
     "metadata": {
      "needs_background": "light"
     },
     "output_type": "display_data"
    }
   ],
   "source": [
    "import matplotlib.pyplot as plt2\n",
    "plt2.barh(y_pos, f1score, align='center', alpha=0.5,color='navy')\n",
    "plt2.yticks(y_pos, classifier)\n",
    "plt2.xlabel('F1 Score')\n",
    "plt2.title('Classification Performance')\n",
    "plt2.show()"
   ]
  },
  {
   "cell_type": "code",
   "execution_count": null,
   "metadata": {},
   "outputs": [],
   "source": []
  }
 ],
 "metadata": {
  "kernelspec": {
   "display_name": "Python 3",
   "language": "python",
   "name": "python3"
  },
  "language_info": {
   "codemirror_mode": {
    "name": "ipython",
    "version": 3
   },
   "file_extension": ".py",
   "mimetype": "text/x-python",
   "name": "python",
   "nbconvert_exporter": "python",
   "pygments_lexer": "ipython3",
   "version": "3.7.4"
  }
 },
 "nbformat": 4,
 "nbformat_minor": 2
}
